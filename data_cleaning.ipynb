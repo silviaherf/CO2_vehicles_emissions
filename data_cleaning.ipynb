{
 "cells": [
  {
   "cell_type": "code",
   "execution_count": 1,
   "metadata": {},
   "outputs": [],
   "source": [
    "#we import libraries as necessary\n",
    "import pandas as pd\n",
    "import re\n",
    "import src.columns as col\n",
    "import matplotlib.pyplot as plt\n",
    "import numpy as np"
   ]
  },
  {
   "cell_type": "code",
   "execution_count": 2,
   "metadata": {},
   "outputs": [
    {
     "data": {
      "text/html": [
       "<div>\n",
       "<style scoped>\n",
       "    .dataframe tbody tr th:only-of-type {\n",
       "        vertical-align: middle;\n",
       "    }\n",
       "\n",
       "    .dataframe tbody tr th {\n",
       "        vertical-align: top;\n",
       "    }\n",
       "\n",
       "    .dataframe thead th {\n",
       "        text-align: right;\n",
       "    }\n",
       "</style>\n",
       "<table border=\"1\" class=\"dataframe\">\n",
       "  <thead>\n",
       "    <tr style=\"text-align: right;\">\n",
       "      <th></th>\n",
       "      <th>Country or Area</th>\n",
       "      <th>Year</th>\n",
       "      <th>co2_gigagrams</th>\n",
       "      <th>hfc_gigagrams</th>\n",
       "      <th>methane_gigagrams</th>\n",
       "      <th>pfc_gigagrams</th>\n",
       "      <th>sf6_gigagrams</th>\n",
       "      <th>n2o_gigagrams</th>\n",
       "    </tr>\n",
       "  </thead>\n",
       "  <tbody>\n",
       "    <tr>\n",
       "      <th>0</th>\n",
       "      <td>Australia</td>\n",
       "      <td>2012</td>\n",
       "      <td>397830.6047</td>\n",
       "      <td>7945.106379</td>\n",
       "      <td>111709.4988</td>\n",
       "      <td>253.697462</td>\n",
       "      <td>134.111252</td>\n",
       "      <td>25775.42951</td>\n",
       "    </tr>\n",
       "    <tr>\n",
       "      <th>1</th>\n",
       "      <td>Australia</td>\n",
       "      <td>2011</td>\n",
       "      <td>398161.3872</td>\n",
       "      <td>7512.150105</td>\n",
       "      <td>110274.7423</td>\n",
       "      <td>259.250564</td>\n",
       "      <td>134.136620</td>\n",
       "      <td>25201.09362</td>\n",
       "    </tr>\n",
       "    <tr>\n",
       "      <th>2</th>\n",
       "      <td>Australia</td>\n",
       "      <td>2010</td>\n",
       "      <td>399364.8191</td>\n",
       "      <td>6942.606891</td>\n",
       "      <td>109062.6389</td>\n",
       "      <td>243.764011</td>\n",
       "      <td>145.185945</td>\n",
       "      <td>24451.85748</td>\n",
       "    </tr>\n",
       "    <tr>\n",
       "      <th>3</th>\n",
       "      <td>Australia</td>\n",
       "      <td>2009</td>\n",
       "      <td>398668.7713</td>\n",
       "      <td>6353.309697</td>\n",
       "      <td>110806.5324</td>\n",
       "      <td>307.886656</td>\n",
       "      <td>143.230925</td>\n",
       "      <td>24897.90320</td>\n",
       "    </tr>\n",
       "    <tr>\n",
       "      <th>4</th>\n",
       "      <td>Australia</td>\n",
       "      <td>2008</td>\n",
       "      <td>399084.1509</td>\n",
       "      <td>5810.538264</td>\n",
       "      <td>113592.7600</td>\n",
       "      <td>381.135610</td>\n",
       "      <td>158.400094</td>\n",
       "      <td>25546.77744</td>\n",
       "    </tr>\n",
       "  </tbody>\n",
       "</table>\n",
       "</div>"
      ],
      "text/plain": [
       "  Country or Area  Year  co2_gigagrams  hfc_gigagrams  methane_gigagrams  \\\n",
       "0       Australia  2012    397830.6047    7945.106379        111709.4988   \n",
       "1       Australia  2011    398161.3872    7512.150105        110274.7423   \n",
       "2       Australia  2010    399364.8191    6942.606891        109062.6389   \n",
       "3       Australia  2009    398668.7713    6353.309697        110806.5324   \n",
       "4       Australia  2008    399084.1509    5810.538264        113592.7600   \n",
       "\n",
       "   pfc_gigagrams  sf6_gigagrams  n2o_gigagrams  \n",
       "0     253.697462     134.111252    25775.42951  \n",
       "1     259.250564     134.136620    25201.09362  \n",
       "2     243.764011     145.185945    24451.85748  \n",
       "3     307.886656     143.230925    24897.90320  \n",
       "4     381.135610     158.400094    25546.77744  "
      ]
     },
     "execution_count": 2,
     "metadata": {},
     "output_type": "execute_result"
    }
   ],
   "source": [
    "# we open the first dataset\n",
    "emissions = pd.read_csv('input/Greenhouse_Gas_Emissions_worldwide.csv',encoding='latin-1')\n",
    "emissions.head()"
   ]
  },
  {
   "cell_type": "code",
   "execution_count": 3,
   "metadata": {},
   "outputs": [
    {
     "data": {
      "text/plain": [
       "(989, 8)"
      ]
     },
     "execution_count": 3,
     "metadata": {},
     "output_type": "execute_result"
    }
   ],
   "source": [
    "#we explore data i for further understanding\n",
    "emissions.shape"
   ]
  },
  {
   "cell_type": "code",
   "execution_count": 4,
   "metadata": {},
   "outputs": [
    {
     "data": {
      "text/plain": [
       "Index(['Country_or_Area', 'Year', 'co2_gigagrams', 'hfc_gigagrams',\n",
       "       'methane_gigagrams', 'pfc_gigagrams', 'sf6_gigagrams', 'n2o_gigagrams'],\n",
       "      dtype='object')"
      ]
     },
     "execution_count": 4,
     "metadata": {},
     "output_type": "execute_result"
    }
   ],
   "source": [
    "#we will rename columns removing blank spaces to avoid  problems in future by calling a function from the\n",
    "# file columns.py\n",
    "col.rename_columns(emissions)\n",
    "emissions.columns"
   ]
  },
  {
   "cell_type": "code",
   "execution_count": null,
   "metadata": {},
   "outputs": [],
   "source": []
  }
 ],
 "metadata": {
  "kernelspec": {
   "display_name": "Python 3",
   "language": "python",
   "name": "python3"
  },
  "language_info": {
   "codemirror_mode": {
    "name": "ipython",
    "version": 3
   },
   "file_extension": ".py",
   "mimetype": "text/x-python",
   "name": "python",
   "nbconvert_exporter": "python",
   "pygments_lexer": "ipython3",
   "version": "3.8.2"
  }
 },
 "nbformat": 4,
 "nbformat_minor": 4
}
