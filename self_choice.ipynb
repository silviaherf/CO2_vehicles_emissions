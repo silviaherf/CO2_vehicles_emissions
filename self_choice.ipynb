{
 "cells": [
  {
   "cell_type": "code",
   "execution_count": 1,
   "metadata": {},
   "outputs": [
    {
     "name": "stdout",
     "output_type": "stream",
     "text": [
      "Hi! Which topic would you like to know about?\n",
      "-Worldwide CO2 emissions in History, \n",
      "-Different vehicle types CO2 emissions \n",
      "-Or Registered vehicles worldwide along time?\n",
      "Set 'world_emissions' for the first one, 'vehicles' for the second one or 'register' for the last one\n",
      "Please,enter the name for the DataFrame you want to open from the list aboveworld_emissions\n"
     ]
    }
   ],
   "source": [
    "#we import libraries as necessary\n",
    "import pandas as pd\n",
    "import src.self_choice as choice\n",
    "import matplotlib.pyplot as plt"
   ]
  },
  {
   "cell_type": "markdown",
   "metadata": {},
   "source": [
    "### Use groupping function to obtain a group_by table from a DataFrame"
   ]
  },
  {
   "cell_type": "code",
   "execution_count": 2,
   "metadata": {},
   "outputs": [
    {
     "data": {
      "text/plain": [
       "\"\\n    This function selects the information of a DataFrame a returns a graph.\\n    The parameters you need are:\\n    df- the DataFrame's name (the same as the one you selected in the open_df function)\\n    column- the column of the DataFrame you want to group_by the information\\n    a- the column you want to aggregate the sum and mean of the values\\n    \""
      ]
     },
     "execution_count": 2,
     "metadata": {},
     "output_type": "execute_result"
    }
   ],
   "source": [
    "choice.groupping.__doc__"
   ]
  },
  {
   "cell_type": "code",
   "execution_count": 3,
   "metadata": {},
   "outputs": [
    {
     "name": "stdout",
     "output_type": "stream",
     "text": [
      "Here's a piece of your DataFrame:\n",
      "   Year  CO2_MillionTonnes\n",
      "0  1751               0.09\n",
      "1  1752               0.19\n",
      "2  1753               0.28\n",
      "3  1754               0.37\n",
      "4  1755               0.47\n",
      "Please, enter the column of the DataFrame you want to group_by the informationYear\n",
      "And now enter the column you want to aggregate the sum and mean of the valuesCO2_MillionTonnes\n"
     ]
    },
    {
     "data": {
      "text/html": [
       "<div>\n",
       "<style scoped>\n",
       "    .dataframe tbody tr th:only-of-type {\n",
       "        vertical-align: middle;\n",
       "    }\n",
       "\n",
       "    .dataframe tbody tr th {\n",
       "        vertical-align: top;\n",
       "    }\n",
       "\n",
       "    .dataframe thead th {\n",
       "        text-align: right;\n",
       "    }\n",
       "</style>\n",
       "<table border=\"1\" class=\"dataframe\">\n",
       "  <thead>\n",
       "    <tr style=\"text-align: right;\">\n",
       "      <th></th>\n",
       "      <th>Year</th>\n",
       "      <th>CO2_MillionTonnes</th>\n",
       "    </tr>\n",
       "  </thead>\n",
       "  <tbody>\n",
       "    <tr>\n",
       "      <th>0</th>\n",
       "      <td>1751.0</td>\n",
       "      <td>0.09</td>\n",
       "    </tr>\n",
       "    <tr>\n",
       "      <th>1</th>\n",
       "      <td>1752.0</td>\n",
       "      <td>0.19</td>\n",
       "    </tr>\n",
       "    <tr>\n",
       "      <th>2</th>\n",
       "      <td>1753.0</td>\n",
       "      <td>0.28</td>\n",
       "    </tr>\n",
       "    <tr>\n",
       "      <th>3</th>\n",
       "      <td>1754.0</td>\n",
       "      <td>0.37</td>\n",
       "    </tr>\n",
       "    <tr>\n",
       "      <th>4</th>\n",
       "      <td>1755.0</td>\n",
       "      <td>0.47</td>\n",
       "    </tr>\n",
       "    <tr>\n",
       "      <th>...</th>\n",
       "      <td>...</td>\n",
       "      <td>...</td>\n",
       "    </tr>\n",
       "    <tr>\n",
       "      <th>262</th>\n",
       "      <td>2013.0</td>\n",
       "      <td>14300.00</td>\n",
       "    </tr>\n",
       "    <tr>\n",
       "      <th>263</th>\n",
       "      <td>2014.0</td>\n",
       "      <td>14700.00</td>\n",
       "    </tr>\n",
       "    <tr>\n",
       "      <th>264</th>\n",
       "      <td>2015.0</td>\n",
       "      <td>15000.00</td>\n",
       "    </tr>\n",
       "    <tr>\n",
       "      <th>265</th>\n",
       "      <td>2016.0</td>\n",
       "      <td>15400.00</td>\n",
       "    </tr>\n",
       "    <tr>\n",
       "      <th>266</th>\n",
       "      <td>2017.0</td>\n",
       "      <td>15800.00</td>\n",
       "    </tr>\n",
       "  </tbody>\n",
       "</table>\n",
       "<p>267 rows × 2 columns</p>\n",
       "</div>"
      ],
      "text/plain": [
       "       Year  CO2_MillionTonnes\n",
       "0    1751.0               0.09\n",
       "1    1752.0               0.19\n",
       "2    1753.0               0.28\n",
       "3    1754.0               0.37\n",
       "4    1755.0               0.47\n",
       "..      ...                ...\n",
       "262  2013.0           14300.00\n",
       "263  2014.0           14700.00\n",
       "264  2015.0           15000.00\n",
       "265  2016.0           15400.00\n",
       "266  2017.0           15800.00\n",
       "\n",
       "[267 rows x 2 columns]"
      ]
     },
     "execution_count": 3,
     "metadata": {},
     "output_type": "execute_result"
    }
   ],
   "source": [
    "choice.groupping()"
   ]
  },
  {
   "cell_type": "code",
   "execution_count": 4,
   "metadata": {},
   "outputs": [
    {
     "data": {
      "text/plain": [
       "\"\\n    This function selects the information of a DataFrame a returns a graph.\\n    You don't need any parameter, except of the ones the function will ask you\\n    \""
      ]
     },
     "execution_count": 4,
     "metadata": {},
     "output_type": "execute_result"
    }
   ],
   "source": [
    "choice.graphicate.__doc__"
   ]
  },
  {
   "cell_type": "code",
   "execution_count": 5,
   "metadata": {},
   "outputs": [
    {
     "name": "stdout",
     "output_type": "stream",
     "text": [
      "Here's a piece of your DataFrame:\n",
      "   Year  CO2_MillionTonnes\n",
      "0  1751               0.09\n",
      "1  1752               0.19\n",
      "2  1753               0.28\n",
      "3  1754               0.37\n",
      "4  1755               0.47\n",
      "Please, enter the column of the DataFrame you want in the x axis of your graphYear\n",
      "Please, enter the column of the DataFrame you want in the y axis of your graphCO2_MillionTonnes\n"
     ]
    },
    {
     "data": {
      "text/plain": [
       "<Figure size 1080x576 with 0 Axes>"
      ]
     },
     "metadata": {},
     "output_type": "display_data"
    },
    {
     "data": {
      "image/png": "[encoded data removed]",
      "text/plain": [
       "<Figure size 432x288 with 1 Axes>"
      ]
     },
     "metadata": {
      "needs_background": "light"
     },
     "output_type": "display_data"
    }
   ],
   "source": [
    "choice.graphicate()"
   ]
  }
 ],
 "metadata": {
  "kernelspec": {
   "display_name": "Python 3",
   "language": "python",
   "name": "python3"
  },
  "language_info": {
   "codemirror_mode": {
    "name": "ipython",
    "version": 3
   },
   "file_extension": ".py",
   "mimetype": "text/x-python",
   "name": "python",
   "nbconvert_exporter": "python",
   "pygments_lexer": "ipython3",
   "version": "3.8.2"
  }
 },
 "nbformat": 4,
 "nbformat_minor": 4
}
