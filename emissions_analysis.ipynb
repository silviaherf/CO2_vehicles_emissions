{
 "cells": [
  {
   "cell_type": "code",
   "execution_count": 1,
   "metadata": {},
   "outputs": [],
   "source": [
    "#we import libraries as necessary\n",
    "import pandas as pd\n",
    "import re\n",
    "import src.cleaning as clean\n",
    "import src.manipulating_df as man\n",
    "import matplotlib.pyplot as plt\n",
    "import numpy as np\n",
    "import seaborn as sns"
   ]
  },
  {
   "cell_type": "code",
   "execution_count": 2,
   "metadata": {},
   "outputs": [
    {
     "name": "stdout",
     "output_type": "stream",
     "text": [
      "Please, enter the folder where your cvs file is saved:\n",
      "src\n",
      "Please, enter the name for the cvs file you want to open without extension:\n",
      "world_emissions\n"
     ]
    }
   ],
   "source": [
    "#we wil import our previously cleaned worldwide_emissions cvs file to take conclusions out of it\n",
    "world_emissions=man.open_cvs()\n",
    "#world_emissions file in src folder"
   ]
  },
  {
   "cell_type": "code",
   "execution_count": 3,
   "metadata": {},
   "outputs": [
    {
     "data": {
      "text/html": [
       "<div>\n",
       "<style scoped>\n",
       "    .dataframe tbody tr th:only-of-type {\n",
       "        vertical-align: middle;\n",
       "    }\n",
       "\n",
       "    .dataframe tbody tr th {\n",
       "        vertical-align: top;\n",
       "    }\n",
       "\n",
       "    .dataframe thead th {\n",
       "        text-align: right;\n",
       "    }\n",
       "</style>\n",
       "<table border=\"1\" class=\"dataframe\">\n",
       "  <thead>\n",
       "    <tr style=\"text-align: right;\">\n",
       "      <th></th>\n",
       "      <th>Year</th>\n",
       "      <th>CO2_Tonnes</th>\n",
       "      <th>CO2_MillionTonnes</th>\n",
       "    </tr>\n",
       "  </thead>\n",
       "  <tbody>\n",
       "    <tr>\n",
       "      <th>0</th>\n",
       "      <td>1751</td>\n",
       "      <td>93505.28</td>\n",
       "      <td>0.093505</td>\n",
       "    </tr>\n",
       "    <tr>\n",
       "      <th>1</th>\n",
       "      <td>1752</td>\n",
       "      <td>187047.20</td>\n",
       "      <td>0.187047</td>\n",
       "    </tr>\n",
       "    <tr>\n",
       "      <th>2</th>\n",
       "      <td>1753</td>\n",
       "      <td>280589.12</td>\n",
       "      <td>0.280589</td>\n",
       "    </tr>\n",
       "    <tr>\n",
       "      <th>3</th>\n",
       "      <td>1754</td>\n",
       "      <td>374167.68</td>\n",
       "      <td>0.374168</td>\n",
       "    </tr>\n",
       "    <tr>\n",
       "      <th>4</th>\n",
       "      <td>1755</td>\n",
       "      <td>467782.88</td>\n",
       "      <td>0.467783</td>\n",
       "    </tr>\n",
       "  </tbody>\n",
       "</table>\n",
       "</div>"
      ],
      "text/plain": [
       "   Year  CO2_Tonnes  CO2_MillionTonnes\n",
       "0  1751    93505.28           0.093505\n",
       "1  1752   187047.20           0.187047\n",
       "2  1753   280589.12           0.280589\n",
       "3  1754   374167.68           0.374168\n",
       "4  1755   467782.88           0.467783"
      ]
     },
     "execution_count": 3,
     "metadata": {},
     "output_type": "execute_result"
    }
   ],
   "source": [
    "# we check that the DataFrame exportation is correct\n",
    "world_emissions['CO2_MillionTonnes']=world_emissions['CO2_Tonnes'].map(lambda x: x/1E6)\n",
    "world_emissions.head(5)"
   ]
  },
  {
   "cell_type": "markdown",
   "metadata": {},
   "source": [
    "#### We want to see CO2 total emission through History, and on average by year"
   ]
  },
  {
   "cell_type": "code",
   "execution_count": 4,
   "metadata": {},
   "outputs": [
    {
     "data": {
      "text/html": [
       "<div>\n",
       "<style scoped>\n",
       "    .dataframe tbody tr th:only-of-type {\n",
       "        vertical-align: middle;\n",
       "    }\n",
       "\n",
       "    .dataframe tbody tr th {\n",
       "        vertical-align: top;\n",
       "    }\n",
       "\n",
       "    .dataframe thead tr th {\n",
       "        text-align: left;\n",
       "    }\n",
       "\n",
       "    .dataframe thead tr:last-of-type th {\n",
       "        text-align: right;\n",
       "    }\n",
       "</style>\n",
       "<table border=\"1\" class=\"dataframe\">\n",
       "  <thead>\n",
       "    <tr>\n",
       "      <th></th>\n",
       "      <th colspan=\"2\" halign=\"left\">CO2_MillionTonnes</th>\n",
       "    </tr>\n",
       "    <tr>\n",
       "      <th></th>\n",
       "      <th>sum</th>\n",
       "      <th>mean</th>\n",
       "    </tr>\n",
       "    <tr>\n",
       "      <th>Year_interval</th>\n",
       "      <th></th>\n",
       "      <th></th>\n",
       "    </tr>\n",
       "  </thead>\n",
       "  <tbody>\n",
       "    <tr>\n",
       "      <th>1750</th>\n",
       "      <td>161.46</td>\n",
       "      <td>3.23</td>\n",
       "    </tr>\n",
       "    <tr>\n",
       "      <th>1800</th>\n",
       "      <td>1088.84</td>\n",
       "      <td>21.78</td>\n",
       "    </tr>\n",
       "    <tr>\n",
       "      <th>1850</th>\n",
       "      <td>9232.45</td>\n",
       "      <td>184.65</td>\n",
       "    </tr>\n",
       "    <tr>\n",
       "      <th>1900</th>\n",
       "      <td>63706.79</td>\n",
       "      <td>1274.14</td>\n",
       "    </tr>\n",
       "    <tr>\n",
       "      <th>1950</th>\n",
       "      <td>279190.00</td>\n",
       "      <td>5583.80</td>\n",
       "    </tr>\n",
       "    <tr>\n",
       "      <th>2000</th>\n",
       "      <td>221600.00</td>\n",
       "      <td>13035.29</td>\n",
       "    </tr>\n",
       "  </tbody>\n",
       "</table>\n",
       "</div>"
      ],
      "text/plain": [
       "              CO2_MillionTonnes          \n",
       "                            sum      mean\n",
       "Year_interval                            \n",
       "1750                     161.46      3.23\n",
       "1800                    1088.84     21.78\n",
       "1850                    9232.45    184.65\n",
       "1900                   63706.79   1274.14\n",
       "1950                  279190.00   5583.80\n",
       "2000                  221600.00  13035.29"
      ]
     },
     "execution_count": 4,
     "metadata": {},
     "output_type": "execute_result"
    }
   ],
   "source": [
    "world_emissions[\"Year_interval\"] =pd.cut(world_emissions['Year'],[1750,1800,1850,1900,1950,2000,2050],labels=['1750','1800','1850','1900','1950','2000'])\n",
    "world_emissions_years=world_emissions.groupby(['Year_interval']).agg({\"CO2_MillionTonnes\":[\"sum\",\"mean\"]})\n",
    "clean.rounding(world_emissions_years)"
   ]
  },
  {
   "cell_type": "code",
   "execution_count": 5,
   "metadata": {},
   "outputs": [
    {
     "data": {
      "text/plain": [
       "<Figure size 576x576 with 0 Axes>"
      ]
     },
     "execution_count": 5,
     "metadata": {},
     "output_type": "execute_result"
    },
    {
     "data": {
      "image/png": "[encoded data removed]",
      "text/plain": [
       "<Figure size 576x576 with 2 Axes>"
      ]
     },
     "metadata": {
      "needs_background": "light"
     },
     "output_type": "display_data"
    },
    {
     "data": {
      "text/plain": [
       "<Figure size 576x576 with 0 Axes>"
      ]
     },
     "metadata": {},
     "output_type": "display_data"
    }
   ],
   "source": [
    "plt.figure(figsize=(8,8))\n",
    "plt.subplot(2,1,1)\n",
    "world_emissions_years['CO2_MillionTonnes',  'sum'].plot.bar(xlabel='Year interval',ylabel='CO2 emissions (Million Tonnes)',title='CO2 world emissions over time')\n",
    "\n",
    "plt.tight_layout(pad=5.50)\n",
    "plt.subplot(2,1,2)\n",
    "world_emissions_years['CO2_MillionTonnes',  'mean'].plot(xlabel='Year interval',ylabel='CO2 emissions (Million Tonnes)',title='CO2 world mean emissions over time',c='r')\n",
    "plt.annotate('The mean emissions per year this century \\n has increased by 130%',xy=(5,130.5), xytext=(5.5,100),arrowprops={'arrowstyle': '-|>'}, va='center')\n",
    "plt.figure(figsize=(8,8))\n"
   ]
  },
  {
   "cell_type": "markdown",
   "metadata": {},
   "source": [
    "### CO2 emissions produced by vehicles worldwide"
   ]
  },
  {
   "cell_type": "code",
   "execution_count": 6,
   "metadata": {},
   "outputs": [
    {
     "name": "stdout",
     "output_type": "stream",
     "text": [
      "Please, enter the folder where your cvs file is saved:\n",
      "src\n",
      "Please, enter the name for the cvs file you want to open without extension:\n",
      "vehicles\n"
     ]
    }
   ],
   "source": [
    "#we wil import our previously cleaned vehicles cvs file to take conclusions out of it\n",
    "vehicles=man.open_cvs()\n",
    "#vehicles file in src folder"
   ]
  },
  {
   "cell_type": "code",
   "execution_count": 7,
   "metadata": {},
   "outputs": [
    {
     "data": {
      "text/html": [
       "<div>\n",
       "<style scoped>\n",
       "    .dataframe tbody tr th:only-of-type {\n",
       "        vertical-align: middle;\n",
       "    }\n",
       "\n",
       "    .dataframe tbody tr th {\n",
       "        vertical-align: top;\n",
       "    }\n",
       "\n",
       "    .dataframe thead th {\n",
       "        text-align: right;\n",
       "    }\n",
       "</style>\n",
       "<table border=\"1\" class=\"dataframe\">\n",
       "  <thead>\n",
       "    <tr style=\"text-align: right;\">\n",
       "      <th></th>\n",
       "      <th>CO2_Emissions(g/km)</th>\n",
       "    </tr>\n",
       "    <tr>\n",
       "      <th>Vehicle_Class</th>\n",
       "      <th></th>\n",
       "    </tr>\n",
       "  </thead>\n",
       "  <tbody>\n",
       "    <tr>\n",
       "      <th>VAN - PASSENGER</th>\n",
       "      <td>397.21</td>\n",
       "    </tr>\n",
       "    <tr>\n",
       "      <th>VAN - CARGO</th>\n",
       "      <td>361.50</td>\n",
       "    </tr>\n",
       "    <tr>\n",
       "      <th>SUV - STANDARD</th>\n",
       "      <td>304.84</td>\n",
       "    </tr>\n",
       "    <tr>\n",
       "      <th>PICKUP TRUCK - STANDARD</th>\n",
       "      <td>301.51</td>\n",
       "    </tr>\n",
       "    <tr>\n",
       "      <th>PICKUP TRUCK - SMALL</th>\n",
       "      <td>278.97</td>\n",
       "    </tr>\n",
       "    <tr>\n",
       "      <th>TWO-SEATER</th>\n",
       "      <td>277.45</td>\n",
       "    </tr>\n",
       "    <tr>\n",
       "      <th>FULL-SIZE</th>\n",
       "      <td>263.32</td>\n",
       "    </tr>\n",
       "    <tr>\n",
       "      <th>MINIVAN</th>\n",
       "      <td>262.31</td>\n",
       "    </tr>\n",
       "    <tr>\n",
       "      <th>SUBCOMPACT</th>\n",
       "      <td>246.45</td>\n",
       "    </tr>\n",
       "    <tr>\n",
       "      <th>STATION WAGON - MID-SIZE</th>\n",
       "      <td>238.70</td>\n",
       "    </tr>\n",
       "    <tr>\n",
       "      <th>SPECIAL PURPOSE VEHICLE</th>\n",
       "      <td>237.60</td>\n",
       "    </tr>\n",
       "    <tr>\n",
       "      <th>MINICOMPACT</th>\n",
       "      <td>236.61</td>\n",
       "    </tr>\n",
       "    <tr>\n",
       "      <th>SUV - SMALL</th>\n",
       "      <td>236.29</td>\n",
       "    </tr>\n",
       "    <tr>\n",
       "      <th>MID-SIZE</th>\n",
       "      <td>222.46</td>\n",
       "    </tr>\n",
       "    <tr>\n",
       "      <th>COMPACT</th>\n",
       "      <td>216.68</td>\n",
       "    </tr>\n",
       "    <tr>\n",
       "      <th>STATION WAGON - SMALL</th>\n",
       "      <td>200.07</td>\n",
       "    </tr>\n",
       "  </tbody>\n",
       "</table>\n",
       "</div>"
      ],
      "text/plain": [
       "                          CO2_Emissions(g/km)\n",
       "Vehicle_Class                                \n",
       "VAN - PASSENGER                        397.21\n",
       "VAN - CARGO                            361.50\n",
       "SUV - STANDARD                         304.84\n",
       "PICKUP TRUCK - STANDARD                301.51\n",
       "PICKUP TRUCK - SMALL                   278.97\n",
       "TWO-SEATER                             277.45\n",
       "FULL-SIZE                              263.32\n",
       "MINIVAN                                262.31\n",
       "SUBCOMPACT                             246.45\n",
       "STATION WAGON - MID-SIZE               238.70\n",
       "SPECIAL PURPOSE VEHICLE                237.60\n",
       "MINICOMPACT                            236.61\n",
       "SUV - SMALL                            236.29\n",
       "MID-SIZE                               222.46\n",
       "COMPACT                                216.68\n",
       "STATION WAGON - SMALL                  200.07"
      ]
     },
     "execution_count": 7,
     "metadata": {},
     "output_type": "execute_result"
    }
   ],
   "source": [
    "vehicles_emissions=vehicles.groupby(['Vehicle_Class']).agg({'CO2_Emissions(g/km)':'mean'})\n",
    "clean.rounding(vehicles_emissions)\n",
    "vehicles_emissions=vehicles_emissions.sort_values(by='CO2_Emissions(g/km)',ascending=False)\n",
    "vehicles_emissions"
   ]
  },
  {
   "cell_type": "code",
   "execution_count": 8,
   "metadata": {},
   "outputs": [
    {
     "data": {
      "text/plain": [
       "<Figure size 720x576 with 0 Axes>"
      ]
     },
     "metadata": {},
     "output_type": "display_data"
    },
    {
     "data": {
      "image/png": "[encoded data removed]",
      "text/plain": [
       "<Figure size 432x288 with 1 Axes>"
      ]
     },
     "metadata": {
      "needs_background": "light"
     },
     "output_type": "display_data"
    },
    {
     "name": "stdout",
     "output_type": "stream",
     "text": [
      "It can be seen that the most inefficient vehicles are vans, with great difference.\n",
      "In general terms, it could be said that the bigger the car, the less efficient\n"
     ]
    }
   ],
   "source": [
    "plt.figure(figsize=(10,8))\n",
    "vehicles_emissions.plot.barh(xlabel='Vehicle Class',title='CO2 emissions for different vehicle types (g/km)')\n",
    "plt.show()\n",
    "print('It can be seen that the most inefficient vehicles are vans, with great difference.\\nIn general terms, it could be said that the bigger the car, the less efficient')"
   ]
  },
  {
   "cell_type": "code",
   "execution_count": 9,
   "metadata": {},
   "outputs": [
    {
     "data": {
      "image/png": "[encoded data removed]",
      "text/plain": [
       "<Figure size 720x576 with 1 Axes>"
      ]
     },
     "metadata": {
      "needs_background": "light"
     },
     "output_type": "display_data"
    },
    {
     "name": "stdout",
     "output_type": "stream",
     "text": [
      "As it can be seen, the highest emissions are produced by Ethanol vehicles, where data is fairly concentrated\n"
     ]
    }
   ],
   "source": [
    "plt.figure(figsize=(10,8))\n",
    "sns.boxplot(x=\"Fuel_Type\", y=\"CO2_Emissions(g/km)\", data=vehicles, palette=\"Set3\")\n",
    "plt.title('CO2 emissions for different Fuel Type vehicles (g/km)')\n",
    "plt.xlabel('Fuel Type')\n",
    "plt.ylabel('CO2 emissions (g/km)')\n",
    "plt.show()\n",
    "print('As it can be seen, the highest emissions are produced by Ethanol vehicles, where data is fairly concentrated')"
   ]
  },
  {
   "cell_type": "code",
   "execution_count": 10,
   "metadata": {},
   "outputs": [
    {
     "name": "stdout",
     "output_type": "stream",
     "text": [
      "The mean CO2 emission for a vehicle is 250.58 g/km\n"
     ]
    }
   ],
   "source": [
    "mean_emission=round(vehicles['CO2_Emissions(g/km)'].mean(),2)\n",
    "print(f'The mean CO2 emission for a vehicle is {mean_emission} g/km')"
   ]
  },
  {
   "cell_type": "markdown",
   "metadata": {},
   "source": [
    "### Number of registered vehicles worldwide"
   ]
  },
  {
   "cell_type": "code",
   "execution_count": 11,
   "metadata": {},
   "outputs": [
    {
     "name": "stdout",
     "output_type": "stream",
     "text": [
      "Please, enter the folder where your cvs file is saved:\n",
      "src\n",
      "Please, enter the name for the cvs file you want to open without extension:\n",
      "register\n"
     ]
    }
   ],
   "source": [
    "#we wil import our previously cleaned register cvs file to take conclusions out of it\n",
    "register=man.open_cvs()\n",
    "#register file in src folder"
   ]
  },
  {
   "cell_type": "code",
   "execution_count": 12,
   "metadata": {},
   "outputs": [
    {
     "data": {
      "text/html": [
       "<div>\n",
       "<style scoped>\n",
       "    .dataframe tbody tr th:only-of-type {\n",
       "        vertical-align: middle;\n",
       "    }\n",
       "\n",
       "    .dataframe tbody tr th {\n",
       "        vertical-align: top;\n",
       "    }\n",
       "\n",
       "    .dataframe thead th {\n",
       "        text-align: right;\n",
       "    }\n",
       "</style>\n",
       "<table border=\"1\" class=\"dataframe\">\n",
       "  <thead>\n",
       "    <tr style=\"text-align: right;\">\n",
       "      <th></th>\n",
       "      <th>Country</th>\n",
       "      <th>Year</th>\n",
       "      <th>Number_of_registered_vehicles</th>\n",
       "    </tr>\n",
       "  </thead>\n",
       "  <tbody>\n",
       "    <tr>\n",
       "      <th>0</th>\n",
       "      <td>Albania</td>\n",
       "      <td>2016</td>\n",
       "      <td>563106</td>\n",
       "    </tr>\n",
       "    <tr>\n",
       "      <th>1</th>\n",
       "      <td>Antigua and Barbuda</td>\n",
       "      <td>2016</td>\n",
       "      <td>36030</td>\n",
       "    </tr>\n",
       "    <tr>\n",
       "      <th>2</th>\n",
       "      <td>Argentina</td>\n",
       "      <td>2016</td>\n",
       "      <td>21633587</td>\n",
       "    </tr>\n",
       "    <tr>\n",
       "      <th>3</th>\n",
       "      <td>Australia</td>\n",
       "      <td>2016</td>\n",
       "      <td>18326236</td>\n",
       "    </tr>\n",
       "    <tr>\n",
       "      <th>4</th>\n",
       "      <td>Austria</td>\n",
       "      <td>2016</td>\n",
       "      <td>7421647</td>\n",
       "    </tr>\n",
       "  </tbody>\n",
       "</table>\n",
       "</div>"
      ],
      "text/plain": [
       "               Country  Year  Number_of_registered_vehicles\n",
       "0              Albania  2016                         563106\n",
       "1  Antigua and Barbuda  2016                          36030\n",
       "2            Argentina  2016                       21633587\n",
       "3            Australia  2016                       18326236\n",
       "4              Austria  2016                        7421647"
      ]
     },
     "execution_count": 12,
     "metadata": {},
     "output_type": "execute_result"
    }
   ],
   "source": [
    "# we check that the DataFrame exportation is correct\n",
    "register.head()"
   ]
  },
  {
   "cell_type": "code",
   "execution_count": 13,
   "metadata": {},
   "outputs": [
    {
     "name": "stdout",
     "output_type": "stream",
     "text": [
      "There were 1267.16 millions vehicles registered  in the world in 2016\n"
     ]
    }
   ],
   "source": [
    "registered_vehicles_2016=(register[register['Year'].isin(['2016','2016-2017'])]['Number_of_registered_vehicles'].sum())/1E6\n",
    "registered_vehicles_2016=clean.rounding_value(registered_vehicles_2016)\n",
    "print(f'There were {registered_vehicles_2016} millions vehicles registered  in the world in 2016')"
   ]
  },
  {
   "cell_type": "code",
   "execution_count": 14,
   "metadata": {},
   "outputs": [
    {
     "name": "stdout",
     "output_type": "stream",
     "text": [
      "There were 703.12 million vehicles registered  in the world in 2015\n"
     ]
    }
   ],
   "source": [
    "registered_vehicles_2015=(register[register['Year'].isin(['2015','2015-2016'])]['Number_of_registered_vehicles'].sum())/1E6\n",
    "registered_vehicles_2015=clean.rounding_value(registered_vehicles_2015)\n",
    "print(f'There were {registered_vehicles_2015} million vehicles registered  in the world in 2015')"
   ]
  },
  {
   "cell_type": "code",
   "execution_count": 15,
   "metadata": {},
   "outputs": [
    {
     "name": "stdout",
     "output_type": "stream",
     "text": [
      "564.04 millions vehicles were bought in the world in 2016\n"
     ]
    }
   ],
   "source": [
    "sales_2016=registered_vehicles_2016-registered_vehicles_2015\n",
    "sales_2016=clean.rounding_value(sales_2016)\n",
    "print(f'{sales_2016} millions vehicles were bought in the world in 2016')"
   ]
  },
  {
   "cell_type": "code",
   "execution_count": 16,
   "metadata": {},
   "outputs": [],
   "source": [
    "world_emissions_2016=world_emissions[world_emissions['Year']==2016]['CO2_MillionTonnes'].sum()"
   ]
  },
  {
   "cell_type": "code",
   "execution_count": 17,
   "metadata": {},
   "outputs": [
    {
     "name": "stdout",
     "output_type": "stream",
     "text": [
      "In 2016, the total CO2 emission in the world were 15400.0 Million Tonnes\n"
     ]
    }
   ],
   "source": [
    "print(f'In 2016, the total CO2 emission in the world were {world_emissions_2016} Million Tonnes')"
   ]
  },
  {
   "cell_type": "markdown",
   "metadata": {},
   "source": [
    "#### Asumming a 30.000km-long mean ride for a vehicle in a year:"
   ]
  },
  {
   "cell_type": "code",
   "execution_count": 21,
   "metadata": {},
   "outputs": [],
   "source": [
    "mean_ride=30000\n",
    "vehicles_emissions_2016=registered_vehicles_2016*mean_ride*mean_emission/1E6\n",
    "vehicles_emissions_2016=clean.rounding_value(vehicles_emissions_2016)"
   ]
  },
  {
   "cell_type": "code",
   "execution_count": 22,
   "metadata": {},
   "outputs": [
    {
     "data": {
      "image/png": "[encoded data removed]",
      "text/plain": [
       "<Figure size 432x288 with 1 Axes>"
      ]
     },
     "metadata": {},
     "output_type": "display_data"
    }
   ],
   "source": [
    "# Pie chart, where the slices will be ordered and plotted counter-clockwise:\n",
    "labels = 'World emissions', 'Vehicles emissions' \n",
    "sizes = [world_emissions_2016, vehicles_emissions_2016]\n",
    "explode = (0, 0.1)  # only \"explode\" the 2nd slice (i.e. 'Hogs')\n",
    "\n",
    "\n",
    "plt.pie(sizes, explode=explode, labels=labels, autopct='%1.1f%%', shadow=True, startangle=90)\n",
    "\n",
    "\n",
    "plt.show()"
   ]
  },
  {
   "cell_type": "markdown",
   "metadata": {},
   "source": [
    "### European Comission Expects ZERO CO2 emissions in 2050"
   ]
  },
  {
   "cell_type": "markdown",
   "metadata": {},
   "source": [
    "#### Therefore, penalties of 95€ per emitted CO2 gram and vehicule will be applied from 2022 on\n",
    "#### For a million cars sold in a year:"
   ]
  },
  {
   "cell_type": "code",
   "execution_count": 34,
   "metadata": {},
   "outputs": [
    {
     "name": "stdout",
     "output_type": "stream",
     "text": [
      "For a penalty of 95€/ emitted CO2 gram per vehicle, the total penalty per year would ascend to 2380.51 Millions €\n",
      "for 100.000 cars sold in Europe\n"
     ]
    }
   ],
   "source": [
    "penalty=95\n",
    "penalty_year=(round(1E5*mean_emission*penalty/1E6,2))\n",
    "print(f'For a penalty of {penalty}€/ emitted CO2 gram per vehicle, the total penalty per year would ascend to {penalty_year} Millions €\\nfor 100.000 cars sold in Europe')"
   ]
  }
 ],
 "metadata": {
  "kernelspec": {
   "display_name": "Python 3",
   "language": "python",
   "name": "python3"
  },
  "language_info": {
   "codemirror_mode": {
    "name": "ipython",
    "version": 3
   },
   "file_extension": ".py",
   "mimetype": "text/x-python",
   "name": "python",
   "nbconvert_exporter": "python",
   "pygments_lexer": "ipython3",
   "version": "3.8.2"
  }
 },
 "nbformat": 4,
 "nbformat_minor": 4
}
