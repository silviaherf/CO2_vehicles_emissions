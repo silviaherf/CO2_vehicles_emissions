{
 "cells": [
  {
   "cell_type": "code",
   "execution_count": 1,
   "metadata": {},
   "outputs": [],
   "source": [
    "#we import libraries as necessary\n",
    "import pandas as pd\n",
    "import re\n",
    "import src.columns as col\n",
    "import src.manipulating_df as man\n",
    "import matplotlib.pyplot as plt\n",
    "import numpy as np\n",
    "import seaborn as sns"
   ]
  },
  {
   "cell_type": "code",
   "execution_count": 2,
   "metadata": {},
   "outputs": [
    {
     "name": "stdout",
     "output_type": "stream",
     "text": [
      "Please, enter the name for the cvs file you want to open without extension:\n",
      "world_emissions\n"
     ]
    }
   ],
   "source": [
    "#we wil import our previously cleaned worldwide_emissions cvs file to take conclusions out of it\n",
    "world_emissions=man.open_cvs()"
   ]
  },
  {
   "cell_type": "code",
   "execution_count": 3,
   "metadata": {},
   "outputs": [
    {
     "data": {
      "text/html": [
       "<div>\n",
       "<style scoped>\n",
       "    .dataframe tbody tr th:only-of-type {\n",
       "        vertical-align: middle;\n",
       "    }\n",
       "\n",
       "    .dataframe tbody tr th {\n",
       "        vertical-align: top;\n",
       "    }\n",
       "\n",
       "    .dataframe thead th {\n",
       "        text-align: right;\n",
       "    }\n",
       "</style>\n",
       "<table border=\"1\" class=\"dataframe\">\n",
       "  <thead>\n",
       "    <tr style=\"text-align: right;\">\n",
       "      <th></th>\n",
       "      <th>Year</th>\n",
       "      <th>CO2_Tonnes</th>\n",
       "    </tr>\n",
       "  </thead>\n",
       "  <tbody>\n",
       "    <tr>\n",
       "      <th>0</th>\n",
       "      <td>1751</td>\n",
       "      <td>9350528.0</td>\n",
       "    </tr>\n",
       "    <tr>\n",
       "      <th>1</th>\n",
       "      <td>1752</td>\n",
       "      <td>18704720.0</td>\n",
       "    </tr>\n",
       "    <tr>\n",
       "      <th>2</th>\n",
       "      <td>1753</td>\n",
       "      <td>28058912.0</td>\n",
       "    </tr>\n",
       "    <tr>\n",
       "      <th>3</th>\n",
       "      <td>1754</td>\n",
       "      <td>37416768.0</td>\n",
       "    </tr>\n",
       "    <tr>\n",
       "      <th>4</th>\n",
       "      <td>1755</td>\n",
       "      <td>46778288.0</td>\n",
       "    </tr>\n",
       "  </tbody>\n",
       "</table>\n",
       "</div>"
      ],
      "text/plain": [
       "   Year  CO2_Tonnes\n",
       "0  1751   9350528.0\n",
       "1  1752  18704720.0\n",
       "2  1753  28058912.0\n",
       "3  1754  37416768.0\n",
       "4  1755  46778288.0"
      ]
     },
     "execution_count": 3,
     "metadata": {},
     "output_type": "execute_result"
    }
   ],
   "source": [
    "world_emissions.head()"
   ]
  },
  {
   "cell_type": "code",
   "execution_count": 22,
   "metadata": {},
   "outputs": [
    {
     "data": {
      "text/plain": [
       "MultiIndex([('CO2_Tonnes',  'sum'),\n",
       "            ('CO2_Tonnes', 'mean')],\n",
       "           )"
      ]
     },
     "execution_count": 22,
     "metadata": {},
     "output_type": "execute_result"
    }
   ],
   "source": [
    "world_emissions[\"Year_interval\"] =pd.cut(world_emissions['Year'],[-1700,1800,1900,2000,2050],labels=['<=1700','1800','1900','2000'])\n",
    "world_emissions_years=world_emissions.groupby(['Year_interval']).agg({\"CO2_Tonnes\":[\"sum\",\"mean\"]})\n",
    "world_emissions_years.columns"
   ]
  },
  {
   "cell_type": "code",
   "execution_count": 28,
   "metadata": {},
   "outputs": [
    {
     "data": {
      "text/html": [
       "<div>\n",
       "<style scoped>\n",
       "    .dataframe tbody tr th:only-of-type {\n",
       "        vertical-align: middle;\n",
       "    }\n",
       "\n",
       "    .dataframe tbody tr th {\n",
       "        vertical-align: top;\n",
       "    }\n",
       "\n",
       "    .dataframe thead tr th {\n",
       "        text-align: left;\n",
       "    }\n",
       "\n",
       "    .dataframe thead tr:last-of-type th {\n",
       "        text-align: right;\n",
       "    }\n",
       "</style>\n",
       "<table border=\"1\" class=\"dataframe\">\n",
       "  <thead>\n",
       "    <tr>\n",
       "      <th></th>\n",
       "      <th colspan=\"2\" halign=\"left\">CO2_Tonnes</th>\n",
       "    </tr>\n",
       "    <tr>\n",
       "      <th></th>\n",
       "      <th>sum</th>\n",
       "      <th>mean</th>\n",
       "    </tr>\n",
       "    <tr>\n",
       "      <th>Year_interval</th>\n",
       "      <th></th>\n",
       "      <th></th>\n",
       "    </tr>\n",
       "  </thead>\n",
       "  <tbody>\n",
       "    <tr>\n",
       "      <th>&lt;=1700</th>\n",
       "      <td>1.614617e+10</td>\n",
       "      <td>3.229234e+08</td>\n",
       "    </tr>\n",
       "    <tr>\n",
       "      <th>1800</th>\n",
       "      <td>1.032128e+12</td>\n",
       "      <td>1.032128e+10</td>\n",
       "    </tr>\n",
       "    <tr>\n",
       "      <th>1900</th>\n",
       "      <td>3.428968e+13</td>\n",
       "      <td>3.428968e+11</td>\n",
       "    </tr>\n",
       "    <tr>\n",
       "      <th>2000</th>\n",
       "      <td>2.216000e+13</td>\n",
       "      <td>1.303529e+12</td>\n",
       "    </tr>\n",
       "  </tbody>\n",
       "</table>\n",
       "</div>"
      ],
      "text/plain": [
       "                 CO2_Tonnes              \n",
       "                        sum          mean\n",
       "Year_interval                            \n",
       "<=1700         1.614617e+10  3.229234e+08\n",
       "1800           1.032128e+12  1.032128e+10\n",
       "1900           3.428968e+13  3.428968e+11\n",
       "2000           2.216000e+13  1.303529e+12"
      ]
     },
     "metadata": {},
     "output_type": "display_data"
    },
    {
     "data": {
      "text/plain": [
       "<matplotlib.axes._subplots.AxesSubplot at 0x7fc77692f820>"
      ]
     },
     "execution_count": 28,
     "metadata": {},
     "output_type": "execute_result"
    },
    {
     "data": {
      "image/png": "[encoded data removed]",
      "text/plain": [
       "<Figure size 1080x360 with 1 Axes>"
      ]
     },
     "metadata": {
      "needs_background": "light"
     },
     "output_type": "display_data"
    }
   ],
   "source": [
    "display(world_emissions_years)\n",
    "plt.figure(figsize=(15,5))\n",
    "world_emissions_years['CO2_Tonnes',  'sum'].plot.barh(title='CO2 world emissions over time')\n",
    "world_emissions_years['CO2_Tonnes',  'mean'].plot(title='CO2 world emissions over time')"
   ]
  },
  {
   "cell_type": "code",
   "execution_count": 42,
   "metadata": {},
   "outputs": [
    {
     "data": {
      "text/plain": [
       "1900      100\n",
       "1800      100\n",
       "<=1700     50\n",
       "2000       17\n",
       "Name: Year_interval, dtype: int64"
      ]
     },
     "execution_count": 42,
     "metadata": {},
     "output_type": "execute_result"
    }
   ],
   "source": [
    "world_emissions['Year_interval'].value_counts()"
   ]
  },
  {
   "cell_type": "code",
   "execution_count": 49,
   "metadata": {},
   "outputs": [
    {
     "data": {
      "text/plain": [
       "0      5.340107e+05\n",
       "1      1.067621e+06\n",
       "2      1.600622e+06\n",
       "3      2.133225e+06\n",
       "4      2.665430e+06\n",
       "           ...     \n",
       "262    7.103825e+10\n",
       "263    7.298908e+10\n",
       "264    7.444169e+10\n",
       "265    7.638889e+10\n",
       "266    7.833416e+10\n",
       "Name: Emissions_per_year, Length: 267, dtype: float64"
      ]
     },
     "execution_count": 49,
     "metadata": {},
     "output_type": "execute_result"
    }
   ],
   "source": [
    "world_emissions['Emissions_per_year']=round(world_emissions['CO2_Tonnes']/world_emissions['Year']*100,2)\n",
    "world_emissions['Emissions_per_year']"
   ]
  },
  {
   "cell_type": "code",
   "execution_count": null,
   "metadata": {},
   "outputs": [],
   "source": [
    "emissions_per_year=[]\n",
    "for i in range(0,len(world_emissions['Year_interval'].value_counts())):\n",
    "    if world_emissions_years['Year']\n",
    "    emissions_per_year.append(round(world_emissions_years['CO2_Tonnes'].sum()/i))"
   ]
  }
 ],
 "metadata": {
  "kernelspec": {
   "display_name": "Python 3",
   "language": "python",
   "name": "python3"
  },
  "language_info": {
   "codemirror_mode": {
    "name": "ipython",
    "version": 3
   },
   "file_extension": ".py",
   "mimetype": "text/x-python",
   "name": "python",
   "nbconvert_exporter": "python",
   "pygments_lexer": "ipython3",
   "version": "3.8.2"
  }
 },
 "nbformat": 4,
 "nbformat_minor": 4
}
