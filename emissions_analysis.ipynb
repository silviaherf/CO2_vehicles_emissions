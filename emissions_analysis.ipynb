{
 "cells": [
  {
   "cell_type": "code",
   "execution_count": 4,
   "metadata": {},
   "outputs": [],
   "source": [
    "#we import libraries as necessary\n",
    "import pandas as pd\n",
    "import re\n",
    "import src.cleaning as clean\n",
    "import src.manipulating_df as man\n",
    "import matplotlib.pyplot as plt\n",
    "import numpy as np\n",
    "import seaborn as sns"
   ]
  },
  {
   "cell_type": "code",
   "execution_count": 2,
   "metadata": {},
   "outputs": [
    {
     "name": "stdout",
     "output_type": "stream",
     "text": [
      "Please, enter the folder where your cvs file is saved:\n",
      "src\n",
      "Please, enter the name for the cvs file you want to open without extension:\n",
      "world_emissions\n"
     ]
    }
   ],
   "source": [
    "#we wil import our previously cleaned worldwide_emissions cvs file to take conclusions out of it\n",
    "world_emissions=man.open_cvs()\n",
    "#world_emissions file in src folder"
   ]
  },
  {
   "cell_type": "code",
   "execution_count": 159,
   "metadata": {},
   "outputs": [
    {
     "data": {
      "text/html": [
       "<div>\n",
       "<style scoped>\n",
       "    .dataframe tbody tr th:only-of-type {\n",
       "        vertical-align: middle;\n",
       "    }\n",
       "\n",
       "    .dataframe tbody tr th {\n",
       "        vertical-align: top;\n",
       "    }\n",
       "\n",
       "    .dataframe thead th {\n",
       "        text-align: right;\n",
       "    }\n",
       "</style>\n",
       "<table border=\"1\" class=\"dataframe\">\n",
       "  <thead>\n",
       "    <tr style=\"text-align: right;\">\n",
       "      <th></th>\n",
       "      <th>Year</th>\n",
       "      <th>CO2_emissions</th>\n",
       "      <th>Year_interval</th>\n",
       "    </tr>\n",
       "  </thead>\n",
       "  <tbody>\n",
       "    <tr>\n",
       "      <th>0</th>\n",
       "      <td>1751</td>\n",
       "      <td>0.00</td>\n",
       "      <td>1750</td>\n",
       "    </tr>\n",
       "    <tr>\n",
       "      <th>1</th>\n",
       "      <td>1752</td>\n",
       "      <td>0.00</td>\n",
       "      <td>1750</td>\n",
       "    </tr>\n",
       "    <tr>\n",
       "      <th>2</th>\n",
       "      <td>1753</td>\n",
       "      <td>0.00</td>\n",
       "      <td>1750</td>\n",
       "    </tr>\n",
       "    <tr>\n",
       "      <th>3</th>\n",
       "      <td>1754</td>\n",
       "      <td>0.00</td>\n",
       "      <td>1750</td>\n",
       "    </tr>\n",
       "    <tr>\n",
       "      <th>4</th>\n",
       "      <td>1755</td>\n",
       "      <td>0.00</td>\n",
       "      <td>1750</td>\n",
       "    </tr>\n",
       "    <tr>\n",
       "      <th>5</th>\n",
       "      <td>1756</td>\n",
       "      <td>0.01</td>\n",
       "      <td>1750</td>\n",
       "    </tr>\n",
       "    <tr>\n",
       "      <th>6</th>\n",
       "      <td>1757</td>\n",
       "      <td>0.01</td>\n",
       "      <td>1750</td>\n",
       "    </tr>\n",
       "    <tr>\n",
       "      <th>7</th>\n",
       "      <td>1758</td>\n",
       "      <td>0.01</td>\n",
       "      <td>1750</td>\n",
       "    </tr>\n",
       "    <tr>\n",
       "      <th>8</th>\n",
       "      <td>1759</td>\n",
       "      <td>0.01</td>\n",
       "      <td>1750</td>\n",
       "    </tr>\n",
       "    <tr>\n",
       "      <th>9</th>\n",
       "      <td>1760</td>\n",
       "      <td>0.01</td>\n",
       "      <td>1750</td>\n",
       "    </tr>\n",
       "    <tr>\n",
       "      <th>10</th>\n",
       "      <td>1761</td>\n",
       "      <td>0.01</td>\n",
       "      <td>1750</td>\n",
       "    </tr>\n",
       "    <tr>\n",
       "      <th>11</th>\n",
       "      <td>1762</td>\n",
       "      <td>0.01</td>\n",
       "      <td>1750</td>\n",
       "    </tr>\n",
       "    <tr>\n",
       "      <th>12</th>\n",
       "      <td>1763</td>\n",
       "      <td>0.01</td>\n",
       "      <td>1750</td>\n",
       "    </tr>\n",
       "    <tr>\n",
       "      <th>13</th>\n",
       "      <td>1764</td>\n",
       "      <td>0.01</td>\n",
       "      <td>1750</td>\n",
       "    </tr>\n",
       "    <tr>\n",
       "      <th>14</th>\n",
       "      <td>1765</td>\n",
       "      <td>0.02</td>\n",
       "      <td>1750</td>\n",
       "    </tr>\n",
       "    <tr>\n",
       "      <th>15</th>\n",
       "      <td>1766</td>\n",
       "      <td>0.02</td>\n",
       "      <td>1750</td>\n",
       "    </tr>\n",
       "    <tr>\n",
       "      <th>16</th>\n",
       "      <td>1767</td>\n",
       "      <td>0.02</td>\n",
       "      <td>1750</td>\n",
       "    </tr>\n",
       "    <tr>\n",
       "      <th>17</th>\n",
       "      <td>1768</td>\n",
       "      <td>0.02</td>\n",
       "      <td>1750</td>\n",
       "    </tr>\n",
       "    <tr>\n",
       "      <th>18</th>\n",
       "      <td>1769</td>\n",
       "      <td>0.02</td>\n",
       "      <td>1750</td>\n",
       "    </tr>\n",
       "    <tr>\n",
       "      <th>19</th>\n",
       "      <td>1770</td>\n",
       "      <td>0.02</td>\n",
       "      <td>1750</td>\n",
       "    </tr>\n",
       "  </tbody>\n",
       "</table>\n",
       "</div>"
      ],
      "text/plain": [
       "    Year  CO2_emissions Year_interval\n",
       "0   1751           0.00          1750\n",
       "1   1752           0.00          1750\n",
       "2   1753           0.00          1750\n",
       "3   1754           0.00          1750\n",
       "4   1755           0.00          1750\n",
       "5   1756           0.01          1750\n",
       "6   1757           0.01          1750\n",
       "7   1758           0.01          1750\n",
       "8   1759           0.01          1750\n",
       "9   1760           0.01          1750\n",
       "10  1761           0.01          1750\n",
       "11  1762           0.01          1750\n",
       "12  1763           0.01          1750\n",
       "13  1764           0.01          1750\n",
       "14  1765           0.02          1750\n",
       "15  1766           0.02          1750\n",
       "16  1767           0.02          1750\n",
       "17  1768           0.02          1750\n",
       "18  1769           0.02          1750\n",
       "19  1770           0.02          1750"
      ]
     },
     "execution_count": 159,
     "metadata": {},
     "output_type": "execute_result"
    }
   ],
   "source": [
    "# we check that the DataFrame exportation is correct\n",
    "world_emissions.head(20)"
   ]
  },
  {
   "cell_type": "markdown",
   "metadata": {},
   "source": [
    "#### We want to see CO2 total emission through History, and on average by year"
   ]
  },
  {
   "cell_type": "code",
   "execution_count": 110,
   "metadata": {},
   "outputs": [
    {
     "data": {
      "text/html": [
       "<div>\n",
       "<style scoped>\n",
       "    .dataframe tbody tr th:only-of-type {\n",
       "        vertical-align: middle;\n",
       "    }\n",
       "\n",
       "    .dataframe tbody tr th {\n",
       "        vertical-align: top;\n",
       "    }\n",
       "\n",
       "    .dataframe thead tr th {\n",
       "        text-align: left;\n",
       "    }\n",
       "\n",
       "    .dataframe thead tr:last-of-type th {\n",
       "        text-align: right;\n",
       "    }\n",
       "</style>\n",
       "<table border=\"1\" class=\"dataframe\">\n",
       "  <thead>\n",
       "    <tr>\n",
       "      <th></th>\n",
       "      <th colspan=\"2\" halign=\"left\">CO2_emissions</th>\n",
       "    </tr>\n",
       "    <tr>\n",
       "      <th></th>\n",
       "      <th>sum</th>\n",
       "      <th>mean</th>\n",
       "    </tr>\n",
       "    <tr>\n",
       "      <th>Year_interval</th>\n",
       "      <th></th>\n",
       "      <th></th>\n",
       "    </tr>\n",
       "  </thead>\n",
       "  <tbody>\n",
       "    <tr>\n",
       "      <th>1750</th>\n",
       "      <td>1.61</td>\n",
       "      <td>0.03</td>\n",
       "    </tr>\n",
       "    <tr>\n",
       "      <th>1800</th>\n",
       "      <td>10.90</td>\n",
       "      <td>0.22</td>\n",
       "    </tr>\n",
       "    <tr>\n",
       "      <th>1850</th>\n",
       "      <td>92.28</td>\n",
       "      <td>1.85</td>\n",
       "    </tr>\n",
       "    <tr>\n",
       "      <th>1900</th>\n",
       "      <td>637.08</td>\n",
       "      <td>12.74</td>\n",
       "    </tr>\n",
       "    <tr>\n",
       "      <th>1950</th>\n",
       "      <td>2791.90</td>\n",
       "      <td>55.84</td>\n",
       "    </tr>\n",
       "    <tr>\n",
       "      <th>2000</th>\n",
       "      <td>2216.00</td>\n",
       "      <td>130.35</td>\n",
       "    </tr>\n",
       "  </tbody>\n",
       "</table>\n",
       "</div>"
      ],
      "text/plain": [
       "              CO2_emissions        \n",
       "                        sum    mean\n",
       "Year_interval                      \n",
       "1750                   1.61    0.03\n",
       "1800                  10.90    0.22\n",
       "1850                  92.28    1.85\n",
       "1900                 637.08   12.74\n",
       "1950                2791.90   55.84\n",
       "2000                2216.00  130.35"
      ]
     },
     "execution_count": 110,
     "metadata": {},
     "output_type": "execute_result"
    }
   ],
   "source": [
    "world_emissions[\"Year_interval\"] =pd.cut(world_emissions['Year'],[1750,1800,1850,1900,1950,2000,2050],labels=['1750','1800','1850','1900','1950','2000'])\n",
    "world_emissions_years=world_emissions.groupby(['Year_interval']).agg({\"CO2_emissions\":[\"sum\",\"mean\"]})\n",
    "clean.rounding(world_emissions_years)"
   ]
  },
  {
   "cell_type": "code",
   "execution_count": 126,
   "metadata": {},
   "outputs": [
    {
     "data": {
      "text/plain": [
       "<Figure size 576x576 with 0 Axes>"
      ]
     },
     "execution_count": 126,
     "metadata": {},
     "output_type": "execute_result"
    },
    {
     "data": {
      "image/png": "[encoded data removed]",
      "text/plain": [
       "<Figure size 576x576 with 2 Axes>"
      ]
     },
     "metadata": {
      "needs_background": "light"
     },
     "output_type": "display_data"
    },
    {
     "data": {
      "text/plain": [
       "<Figure size 576x576 with 0 Axes>"
      ]
     },
     "metadata": {},
     "output_type": "display_data"
    }
   ],
   "source": [
    "plt.figure(figsize=(8,8))\n",
    "plt.subplot(2,1,1)\n",
    "world_emissions_years['CO2_emissions',  'sum'].plot.bar(xlabel='Year interval',ylabel='CO2 Tonnes E10',title='CO2 world emissions over time')\n",
    "\n",
    "plt.tight_layout(pad=5.50)\n",
    "plt.subplot(2,1,2)\n",
    "world_emissions_years['CO2_emissions',  'mean'].plot(xlabel='Year interval',ylabel='CO2 Tonnes E10',title='CO2 world mean emissions over time',c='r')\n",
    "plt.annotate('The mean emissions per year this century \\n has increased by 130%',xy=(5,130.35), xytext=(5.5,100),arrowprops={'arrowstyle': '-|>'}, va='center')\n",
    "plt.figure(figsize=(8,8))\n"
   ]
  },
  {
   "cell_type": "markdown",
   "metadata": {},
   "source": [
    "### CO2 emissions produced by vehicles worldwide"
   ]
  },
  {
   "cell_type": "code",
   "execution_count": 28,
   "metadata": {},
   "outputs": [
    {
     "name": "stdout",
     "output_type": "stream",
     "text": [
      "Please, enter the folder where your cvs file is saved:\n",
      "src\n",
      "Please, enter the name for the cvs file you want to open without extension:\n",
      "vehicles\n"
     ]
    }
   ],
   "source": [
    "#we wil import our previously cleaned vehicles cvs file to take conclusions out of it\n",
    "vehicles=man.open_cvs()\n",
    "#vehicles file in src folder"
   ]
  },
  {
   "cell_type": "code",
   "execution_count": 100,
   "metadata": {},
   "outputs": [
    {
     "data": {
      "text/html": [
       "<div>\n",
       "<style scoped>\n",
       "    .dataframe tbody tr th:only-of-type {\n",
       "        vertical-align: middle;\n",
       "    }\n",
       "\n",
       "    .dataframe tbody tr th {\n",
       "        vertical-align: top;\n",
       "    }\n",
       "\n",
       "    .dataframe thead th {\n",
       "        text-align: right;\n",
       "    }\n",
       "</style>\n",
       "<table border=\"1\" class=\"dataframe\">\n",
       "  <thead>\n",
       "    <tr style=\"text-align: right;\">\n",
       "      <th></th>\n",
       "      <th>CO2_Emissions(g/km)</th>\n",
       "    </tr>\n",
       "    <tr>\n",
       "      <th>Vehicle_Class</th>\n",
       "      <th></th>\n",
       "    </tr>\n",
       "  </thead>\n",
       "  <tbody>\n",
       "    <tr>\n",
       "      <th>VAN - PASSENGER</th>\n",
       "      <td>397.21</td>\n",
       "    </tr>\n",
       "    <tr>\n",
       "      <th>VAN - CARGO</th>\n",
       "      <td>361.50</td>\n",
       "    </tr>\n",
       "    <tr>\n",
       "      <th>SUV - STANDARD</th>\n",
       "      <td>304.84</td>\n",
       "    </tr>\n",
       "    <tr>\n",
       "      <th>PICKUP TRUCK - STANDARD</th>\n",
       "      <td>301.51</td>\n",
       "    </tr>\n",
       "    <tr>\n",
       "      <th>PICKUP TRUCK - SMALL</th>\n",
       "      <td>278.97</td>\n",
       "    </tr>\n",
       "    <tr>\n",
       "      <th>TWO-SEATER</th>\n",
       "      <td>277.45</td>\n",
       "    </tr>\n",
       "    <tr>\n",
       "      <th>FULL-SIZE</th>\n",
       "      <td>263.32</td>\n",
       "    </tr>\n",
       "    <tr>\n",
       "      <th>MINIVAN</th>\n",
       "      <td>262.31</td>\n",
       "    </tr>\n",
       "    <tr>\n",
       "      <th>SUBCOMPACT</th>\n",
       "      <td>246.45</td>\n",
       "    </tr>\n",
       "    <tr>\n",
       "      <th>STATION WAGON - MID-SIZE</th>\n",
       "      <td>238.70</td>\n",
       "    </tr>\n",
       "    <tr>\n",
       "      <th>SPECIAL PURPOSE VEHICLE</th>\n",
       "      <td>237.60</td>\n",
       "    </tr>\n",
       "    <tr>\n",
       "      <th>MINICOMPACT</th>\n",
       "      <td>236.61</td>\n",
       "    </tr>\n",
       "    <tr>\n",
       "      <th>SUV - SMALL</th>\n",
       "      <td>236.29</td>\n",
       "    </tr>\n",
       "    <tr>\n",
       "      <th>MID-SIZE</th>\n",
       "      <td>222.46</td>\n",
       "    </tr>\n",
       "    <tr>\n",
       "      <th>COMPACT</th>\n",
       "      <td>216.68</td>\n",
       "    </tr>\n",
       "    <tr>\n",
       "      <th>STATION WAGON - SMALL</th>\n",
       "      <td>200.07</td>\n",
       "    </tr>\n",
       "  </tbody>\n",
       "</table>\n",
       "</div>"
      ],
      "text/plain": [
       "                          CO2_Emissions(g/km)\n",
       "Vehicle_Class                                \n",
       "VAN - PASSENGER                        397.21\n",
       "VAN - CARGO                            361.50\n",
       "SUV - STANDARD                         304.84\n",
       "PICKUP TRUCK - STANDARD                301.51\n",
       "PICKUP TRUCK - SMALL                   278.97\n",
       "TWO-SEATER                             277.45\n",
       "FULL-SIZE                              263.32\n",
       "MINIVAN                                262.31\n",
       "SUBCOMPACT                             246.45\n",
       "STATION WAGON - MID-SIZE               238.70\n",
       "SPECIAL PURPOSE VEHICLE                237.60\n",
       "MINICOMPACT                            236.61\n",
       "SUV - SMALL                            236.29\n",
       "MID-SIZE                               222.46\n",
       "COMPACT                                216.68\n",
       "STATION WAGON - SMALL                  200.07"
      ]
     },
     "execution_count": 100,
     "metadata": {},
     "output_type": "execute_result"
    }
   ],
   "source": [
    "vehicles_emissions=vehicles.groupby(['Vehicle_Class']).agg({'CO2_Emissions(g/km)':'mean'})\n",
    "clean.rounding(vehicles_emissions)\n",
    "vehicles_emissions=vehicles_emissions.sort_values(by='CO2_Emissions(g/km)',ascending=False)\n",
    "vehicles_emissions"
   ]
  },
  {
   "cell_type": "code",
   "execution_count": 104,
   "metadata": {},
   "outputs": [
    {
     "data": {
      "text/plain": [
       "<Figure size 720x576 with 0 Axes>"
      ]
     },
     "metadata": {},
     "output_type": "display_data"
    },
    {
     "data": {
      "image/png": "[encoded data removed]",
      "text/plain": [
       "<Figure size 432x288 with 1 Axes>"
      ]
     },
     "metadata": {
      "needs_background": "light"
     },
     "output_type": "display_data"
    },
    {
     "name": "stdout",
     "output_type": "stream",
     "text": [
      "It can be seen that the most inefficient vehicles are vans, with great difference.\n",
      "In general terms, it could be said that the bigger the car, the less efficient\n"
     ]
    }
   ],
   "source": [
    "plt.figure(figsize=(10,8))\n",
    "vehicles_emissions.plot.barh(xlabel='Vehicle Class',title='CO2 emissions for different vehicle types (g/km)')\n",
    "plt.show()\n",
    "print('It can be seen that the most inefficient vehicles are vans, with great difference.\\nIn general terms, it could be said that the bigger the car, the less efficient')"
   ]
  },
  {
   "cell_type": "code",
   "execution_count": 105,
   "metadata": {},
   "outputs": [
    {
     "data": {
      "image/png": "[encoded data removed]",
      "text/plain": [
       "<Figure size 720x576 with 1 Axes>"
      ]
     },
     "metadata": {
      "needs_background": "light"
     },
     "output_type": "display_data"
    },
    {
     "name": "stdout",
     "output_type": "stream",
     "text": [
      "As it can be seen, the highest emissions are produced by Ethanol vehicles, where data is fairly concentrated\n"
     ]
    }
   ],
   "source": [
    "plt.figure(figsize=(10,8))\n",
    "sns.boxplot(x=\"Fuel_Type\", y=\"CO2_Emissions(g/km)\", data=vehicles, palette=\"Set3\")\n",
    "plt.title('CO2 emissions for different Fuel Type vehicles (g/km)')\n",
    "plt.xlabel('Fuel Type')\n",
    "plt.ylabel('CO2 emissions (g/km)')\n",
    "plt.show()\n",
    "print('As it can be seen, the highest emissions are produced by Ethanol vehicles, where data is fairly concentrated')"
   ]
  },
  {
   "cell_type": "code",
   "execution_count": 85,
   "metadata": {},
   "outputs": [
    {
     "name": "stdout",
     "output_type": "stream",
     "text": [
      "The mean CO2 emission for a vehicle is 250.58 g/km\n"
     ]
    }
   ],
   "source": [
    "mean_emission=round(vehicles['CO2_Emissions(g/km)'].mean(),2)\n",
    "print(f'The mean CO2 emission for a vehicle is {mean_emission} g/km')"
   ]
  },
  {
   "cell_type": "markdown",
   "metadata": {},
   "source": [
    "### Number of registered vehicles worldwide"
   ]
  },
  {
   "cell_type": "code",
   "execution_count": 23,
   "metadata": {},
   "outputs": [
    {
     "name": "stdout",
     "output_type": "stream",
     "text": [
      "Please, enter the folder where your cvs file is saved:\n",
      "src\n",
      "Please, enter the name for the cvs file you want to open without extension:\n",
      "register\n"
     ]
    }
   ],
   "source": [
    "#we wil import our previously cleaned register cvs file to take conclusions out of it\n",
    "register=man.open_cvs()\n",
    "#register file in src folder"
   ]
  },
  {
   "cell_type": "code",
   "execution_count": 96,
   "metadata": {},
   "outputs": [
    {
     "name": "stdout",
     "output_type": "stream",
     "text": [
      "There were 1267160207 registered vehicles in the world in 2016\n"
     ]
    }
   ],
   "source": [
    "# we check that the DataFrame exportation is correct\n",
    "registerd_vehicles=register['Number_of_registered_vehicles'].sum()\n",
    "print(f'There were {registerd_vehicles} registered vehicles in the world in 2016')"
   ]
  },
  {
   "cell_type": "code",
   "execution_count": null,
   "metadata": {},
   "outputs": [],
   "source": []
  },
  {
   "cell_type": "markdown",
   "metadata": {},
   "source": [
    "### European Comission Expects ZERO CO2 emissions in 2050"
   ]
  }
 ],
 "metadata": {
  "kernelspec": {
   "display_name": "Python 3",
   "language": "python",
   "name": "python3"
  },
  "language_info": {
   "codemirror_mode": {
    "name": "ipython",
    "version": 3
   },
   "file_extension": ".py",
   "mimetype": "text/x-python",
   "name": "python",
   "nbconvert_exporter": "python",
   "pygments_lexer": "ipython3",
   "version": "3.8.2"
  }
 },
 "nbformat": 4,
 "nbformat_minor": 4
}
