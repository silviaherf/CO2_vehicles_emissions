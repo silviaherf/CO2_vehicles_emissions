{
 "cells": [
  {
   "cell_type": "code",
   "execution_count": null,
   "metadata": {},
   "outputs": [],
   "source": [
    "#Esta era una funcion para calcular el aumento de emisiones medias al año cada 50 años, pero no aporta nada\n",
    "\n",
    "increase=[]\n",
    "for i in range(0,len(world_emissions_years.index)):\n",
    "    if i==0:\n",
    "        increase.append('--')\n",
    "    else:\n",
    "        increase.append(((world_emissions_years['CO2_emissions','mean'][i]-world_emissions_years['CO2_emissions','mean'][i-1])/world_emissions_years['CO2_emissions','mean'][i-1])*100)\n",
    "    \n",
    "       \n",
    "    \n",
    "world_emissions_years['CO2_emissions',  'increase']=increase"
   ]
  }
 ],
 "metadata": {
  "kernelspec": {
   "display_name": "Python 3",
   "language": "python",
   "name": "python3"
  },
  "language_info": {
   "codemirror_mode": {
    "name": "ipython",
    "version": 3
   },
   "file_extension": ".py",
   "mimetype": "text/x-python",
   "name": "python",
   "nbconvert_exporter": "python",
   "pygments_lexer": "ipython3",
   "version": "3.8.2"
  }
 },
 "nbformat": 4,
 "nbformat_minor": 4
}
